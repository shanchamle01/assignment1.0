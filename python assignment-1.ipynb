{
 "cells": [
  {
   "cell_type": "code",
   "execution_count": null,
   "id": "f64d8977-71df-49e1-8ddc-d810a0949032",
   "metadata": {},
   "outputs": [],
   "source": [
    "#q.1\n",
    "#'def'keyword is used to define function\n"
   ]
  },
  {
   "cell_type": "code",
   "execution_count": 5,
   "id": "2ea0c936-8239-41dc-b077-84ba87dc5de8",
   "metadata": {},
   "outputs": [
    {
     "name": "stdout",
     "output_type": "stream",
     "text": [
      "[1, 3, 5, 7, 9, 11, 13, 15, 17, 19, 21, 23, 25]\n"
     ]
    }
   ],
   "source": [
    "List1=[1,2,3,4,5,6,7,8,9,10,11,12,13,14,15,16,17,18,19,20,21,22,23,24,25]\n",
    "odd_no=[num for num in List1 if num%2==1]\n",
    "print(odd_no)"
   ]
  },
  {
   "cell_type": "code",
   "execution_count": 1,
   "id": "4b872c4d-6cd9-4651-8305-4636fe280be2",
   "metadata": {},
   "outputs": [],
   "source": [
    "#*args In python is used to pass a variable number of arguments to a function.\n",
    "#**kwargs is used to pass a keyworded ,variable length argument list.\n"
   ]
  },
  {
   "cell_type": "code",
   "execution_count": 2,
   "id": "52494cd5-11a1-4f88-a809-1c8723535d32",
   "metadata": {},
   "outputs": [
    {
     "name": "stdout",
     "output_type": "stream",
     "text": [
      "Hello\n",
      "world\n"
     ]
    }
   ],
   "source": [
    "def myFun(*argv):\n",
    "    for arg in argv:\n",
    "        print(arg)\n",
    "myFun('Hello','world')"
   ]
  },
  {
   "cell_type": "code",
   "execution_count": 3,
   "id": "dd8b2222-2e89-466d-9bdd-f319f34f022d",
   "metadata": {},
   "outputs": [
    {
     "name": "stdout",
     "output_type": "stream",
     "text": [
      "hi\n",
      "hello\n"
     ]
    }
   ],
   "source": [
    "def muFun(**kwargs):\n",
    "    for key,value in kwargs.items():\n",
    "        print(\"%s == %s\" %(key,value))\n",
    "myFun(\"hi\",\"hello\")"
   ]
  },
  {
   "cell_type": "code",
   "execution_count": 4,
   "id": "a4fee5e2-d27f-450b-8fb3-6aa4b67f9c3d",
   "metadata": {},
   "outputs": [],
   "source": [
    "#q.3\n",
    "#iterator:itcan convert data intoiterator by using 'iter'function.\n",
    "#it initialize using 'iter()'method."
   ]
  },
  {
   "cell_type": "code",
   "execution_count": 5,
   "id": "884a01ee-1a04-46b0-90a4-01a77404de64",
   "metadata": {},
   "outputs": [],
   "source": [
    "list=[2,4,6,8,10,12,14,16,18,20]"
   ]
  },
  {
   "cell_type": "code",
   "execution_count": null,
   "id": "9efe7c59-2d40-4371-88e9-4a8cd3966a72",
   "metadata": {},
   "outputs": [],
   "source": [
    "def __iter__(self,list):\n",
    "    return self.list==list()\n",
    "def__next__(self):\n",
    "    return self.last+=1\n",
    "    \n",
    "    if self.last<=10:\n",
    "        raise Stopiteration\n",
    "        \n",
    "        return self.last\n",
    "    list=list()\n",
    "    \n",
    "    for num in list:\n",
    "        print(num)\n",
    "        "
   ]
  },
  {
   "cell_type": "code",
   "execution_count": 14,
   "id": "66a27165-73f0-46f6-8ae6-f9ced273a838",
   "metadata": {},
   "outputs": [],
   "source": [
    "#q.4\n",
    "#generator function:Genarate function one by one without holding a o/p.\n",
    "#by using 'yield()'we can generate function."
   ]
  },
  {
   "cell_type": "code",
   "execution_count": 23,
   "id": "bb8a5c5c-4c96-454a-95fc-932c6983f30f",
   "metadata": {},
   "outputs": [],
   "source": [
    "def test_fibonacci (n):\n",
    "    a,b=1,2\n",
    "    for i in range (n):\n",
    "        yield a\n",
    "        a,b=b,a+b\n",
    "        "
   ]
  },
  {
   "cell_type": "code",
   "execution_count": 18,
   "id": "3523e679-c7f1-4e2b-9a93-4d29f3d4e3f1",
   "metadata": {},
   "outputs": [
    {
     "data": {
      "text/plain": [
       "<generator object test_fibonacci at 0x7fe1ee631540>"
      ]
     },
     "execution_count": 18,
     "metadata": {},
     "output_type": "execute_result"
    }
   ],
   "source": [
    "test_fibonacci(10)"
   ]
  },
  {
   "cell_type": "code",
   "execution_count": 24,
   "id": "9667ece0-d993-4571-a548-9bd7c614f706",
   "metadata": {},
   "outputs": [
    {
     "name": "stdout",
     "output_type": "stream",
     "text": [
      "1\n",
      "2\n",
      "3\n",
      "5\n",
      "8\n",
      "13\n",
      "21\n",
      "34\n",
      "55\n",
      "89\n"
     ]
    }
   ],
   "source": [
    "for i in test_fibonacci(10):\n",
    "    print(i)"
   ]
  },
  {
   "cell_type": "code",
   "execution_count": 20,
   "id": "66085cc4-adf8-422c-889d-506c2c8b162d",
   "metadata": {},
   "outputs": [],
   "source": [
    "#q.6 by using while\n",
    "def test_fibonacci(n):\n",
    "    a,b=0,1\n",
    "    while true:\n",
    "        yield a\n",
    "        a,b=b,a+b\n",
    "    \n",
    "  "
   ]
  },
  {
   "cell_type": "code",
   "execution_count": 21,
   "id": "7d9dcf36-92ed-40d2-a4ea-b03439e307b1",
   "metadata": {},
   "outputs": [
    {
     "data": {
      "text/plain": [
       "<generator object test_fibonacci at 0x7fe1caf4e3b0>"
      ]
     },
     "execution_count": 21,
     "metadata": {},
     "output_type": "execute_result"
    }
   ],
   "source": [
    "test_fibonacci(10)"
   ]
  },
  {
   "cell_type": "code",
   "execution_count": null,
   "id": "88a2cfc0-4b91-41c3-bb29-b98adb2ed0f7",
   "metadata": {},
   "outputs": [],
   "source": [
    "#q.5\n",
    "def prime_numbers(a<1000):\n",
    "    #initialize first two prime numbers\n",
    "    a,b=1,2\n",
    "    \n",
    "    while a<=1:\n",
    "        yield a\n",
    "        a,b=b.a+b\n",
    "        \n",
    "        x=prime_numbers(<1000)\n",
    "        \n",
    "        print(next(x))\n",
    "        \n",
    "        \n",
    "        \n",
    "\n",
    "        \n",
    "        \n"
   ]
  },
  {
   "cell_type": "code",
   "execution_count": null,
   "id": "ec07a7cc-39ba-4ee2-bbd4-075769f75fa4",
   "metadata": {},
   "outputs": [],
   "source": [
    "for i in prime_numbers(1<1000):\n",
    "    print(i)"
   ]
  },
  {
   "cell_type": "code",
   "execution_count": 7,
   "id": "f4476a97-8132-466c-bb75-7aa025f34c69",
   "metadata": {},
   "outputs": [],
   "source": [
    "#q.7\n",
    "a= \"pwskills\""
   ]
  },
  {
   "cell_type": "code",
   "execution_count": 8,
   "id": "22d7e3e2-fbad-4ac5-b3bb-42515e3e2fae",
   "metadata": {},
   "outputs": [
    {
     "data": {
      "text/plain": [
       "['p', 'w', 's', 'k', 'i', 'l', 'l', 's']"
      ]
     },
     "execution_count": 8,
     "metadata": {},
     "output_type": "execute_result"
    }
   ],
   "source": [
    "list(a)"
   ]
  },
  {
   "cell_type": "code",
   "execution_count": 9,
   "id": "af4cae15-4cf0-4924-aa59-e6739a9b865b",
   "metadata": {},
   "outputs": [],
   "source": [
    "#q.8\n",
    "s=\"palindrome\""
   ]
  },
  {
   "cell_type": "code",
   "execution_count": 14,
   "id": "0c2f84b7-5057-46d1-9f6f-eef3e5176b82",
   "metadata": {},
   "outputs": [],
   "source": [
    "def  palindrome(s):\n",
    "    s=s.lower().replace(' ',' ')\n",
    "    first,last=0,len(s)-1\n",
    "    \n",
    "    while(first<last):\n",
    "        if(s[first]==s[last]):\n",
    "            first+=l\n",
    "            last-=l\n",
    "        \n",
    "        else:\n",
    "            return False\n",
    "            return True\n",
    "        \n",
    "            \n"
   ]
  },
  {
   "cell_type": "code",
   "execution_count": 15,
   "id": "e9774bf4-0832-4d41-91a9-35895865052b",
   "metadata": {},
   "outputs": [
    {
     "name": "stdout",
     "output_type": "stream",
     "text": [
      "False\n"
     ]
    }
   ],
   "source": [
    "print(palindrome(s))"
   ]
  },
  {
   "cell_type": "code",
   "execution_count": 16,
   "id": "eac27293-0032-4f0e-9273-42b2e61c5697",
   "metadata": {},
   "outputs": [],
   "source": [
    "#q.9\n",
    "def oddnumbers(list,n=0):\n",
    "    if n==len(list):\n",
    "        exit()\n",
    "    if list[n]%2 !=0:\n",
    "        print(list[n],end=\" \")\n",
    "        \n",
    "        oddnumbers(list,n+1)\n",
    "        "
   ]
  },
  {
   "cell_type": "code",
   "execution_count": null,
   "id": "a08838f3-101a-4be2-8571-5dfa46d2f026",
   "metadata": {},
   "outputs": [],
   "source": []
  }
 ],
 "metadata": {
  "kernelspec": {
   "display_name": "Python 3 (ipykernel)",
   "language": "python",
   "name": "python3"
  },
  "language_info": {
   "codemirror_mode": {
    "name": "ipython",
    "version": 3
   },
   "file_extension": ".py",
   "mimetype": "text/x-python",
   "name": "python",
   "nbconvert_exporter": "python",
   "pygments_lexer": "ipython3",
   "version": "3.10.8"
  }
 },
 "nbformat": 4,
 "nbformat_minor": 5
}
